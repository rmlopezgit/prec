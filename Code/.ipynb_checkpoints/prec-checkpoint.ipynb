{
 "cells": [
  {
   "cell_type": "code",
   "execution_count": 2,
   "metadata": {
    "id": "BitHI5HtNcwz"
   },
   "outputs": [],
   "source": [
    "# librerías:\n",
    "\n",
    "import pandas as pd\n",
    "import numpy as np\n",
    "import matplotlib.pyplot as plt\n",
    "import seaborn as sns\n",
    "import matplotlib.pyplot as mp\n",
    "import mlflow\n",
    "from scipy.cluster.hierarchy import linkage, fcluster\n",
    "from sklearn.preprocessing import StandardScaler\n",
    "from sklearn.decomposition import PCA\n",
    "from sklearn.metrics import silhouette_score"
   ]
  },
  {
   "cell_type": "code",
   "execution_count": 3,
   "metadata": {
    "colab": {
     "base_uri": "https://localhost:8080/",
     "height": 167
    },
    "id": "oRr01cbOLrZL",
    "outputId": "880f6fb1-fc2f-41b9-eb91-27a68c1c7b09"
   },
   "outputs": [
    {
     "data": {
      "text/html": [
       "<div>\n",
       "<style scoped>\n",
       "    .dataframe tbody tr th:only-of-type {\n",
       "        vertical-align: middle;\n",
       "    }\n",
       "\n",
       "    .dataframe tbody tr th {\n",
       "        vertical-align: top;\n",
       "    }\n",
       "\n",
       "    .dataframe thead th {\n",
       "        text-align: right;\n",
       "    }\n",
       "</style>\n",
       "<table border=\"1\" class=\"dataframe\">\n",
       "  <thead>\n",
       "    <tr style=\"text-align: right;\">\n",
       "      <th></th>\n",
       "      <th>Entidad</th>\n",
       "      <th>Fecha</th>\n",
       "      <th>Solvencia</th>\n",
       "      <th>IRL</th>\n",
       "      <th>Cartera/Depósitos</th>\n",
       "      <th>Cartera/Activos</th>\n",
       "      <th>Gast_ope/Activos</th>\n",
       "      <th>ROA</th>\n",
       "      <th>ROE</th>\n",
       "      <th>Calidad</th>\n",
       "      <th>Utilidad/Ingresos</th>\n",
       "    </tr>\n",
       "  </thead>\n",
       "  <tbody>\n",
       "    <tr>\n",
       "      <th>0</th>\n",
       "      <td>BANCAMÍA S. A.</td>\n",
       "      <td>2018-01-01</td>\n",
       "      <td>17.59</td>\n",
       "      <td>334.0</td>\n",
       "      <td>225.122316</td>\n",
       "      <td>82.101505</td>\n",
       "      <td>13.439939</td>\n",
       "      <td>1.649447</td>\n",
       "      <td>6.832722</td>\n",
       "      <td>5.288146</td>\n",
       "      <td>5.398005</td>\n",
       "    </tr>\n",
       "    <tr>\n",
       "      <th>1</th>\n",
       "      <td>BANCAMÍA S. A.</td>\n",
       "      <td>2018-02-01</td>\n",
       "      <td>17.52</td>\n",
       "      <td>290.4</td>\n",
       "      <td>212.079849</td>\n",
       "      <td>81.778429</td>\n",
       "      <td>13.299214</td>\n",
       "      <td>1.699940</td>\n",
       "      <td>7.028450</td>\n",
       "      <td>5.395301</td>\n",
       "      <td>5.543541</td>\n",
       "    </tr>\n",
       "    <tr>\n",
       "      <th>2</th>\n",
       "      <td>BANCAMÍA S. A.</td>\n",
       "      <td>2018-03-01</td>\n",
       "      <td>17.55</td>\n",
       "      <td>291.2</td>\n",
       "      <td>205.329984</td>\n",
       "      <td>81.630571</td>\n",
       "      <td>12.960920</td>\n",
       "      <td>1.836486</td>\n",
       "      <td>7.571401</td>\n",
       "      <td>5.567269</td>\n",
       "      <td>5.961291</td>\n",
       "    </tr>\n",
       "    <tr>\n",
       "      <th>3</th>\n",
       "      <td>BANCAMÍA S. A.</td>\n",
       "      <td>2018-04-01</td>\n",
       "      <td>17.48</td>\n",
       "      <td>335.3</td>\n",
       "      <td>198.756601</td>\n",
       "      <td>83.327073</td>\n",
       "      <td>13.322951</td>\n",
       "      <td>1.938096</td>\n",
       "      <td>7.962732</td>\n",
       "      <td>5.479457</td>\n",
       "      <td>6.244561</td>\n",
       "    </tr>\n",
       "    <tr>\n",
       "      <th>4</th>\n",
       "      <td>BANCAMÍA S. A.</td>\n",
       "      <td>2018-05-01</td>\n",
       "      <td>15.57</td>\n",
       "      <td>346.8</td>\n",
       "      <td>196.161567</td>\n",
       "      <td>82.957054</td>\n",
       "      <td>13.263120</td>\n",
       "      <td>2.004092</td>\n",
       "      <td>8.310213</td>\n",
       "      <td>5.415416</td>\n",
       "      <td>6.451046</td>\n",
       "    </tr>\n",
       "  </tbody>\n",
       "</table>\n",
       "</div>"
      ],
      "text/plain": [
       "          Entidad      Fecha  Solvencia    IRL  Cartera/Depósitos  \\\n",
       "0  BANCAMÍA S. A. 2018-01-01      17.59  334.0         225.122316   \n",
       "1  BANCAMÍA S. A. 2018-02-01      17.52  290.4         212.079849   \n",
       "2  BANCAMÍA S. A. 2018-03-01      17.55  291.2         205.329984   \n",
       "3  BANCAMÍA S. A. 2018-04-01      17.48  335.3         198.756601   \n",
       "4  BANCAMÍA S. A. 2018-05-01      15.57  346.8         196.161567   \n",
       "\n",
       "   Cartera/Activos  Gast_ope/Activos       ROA       ROE   Calidad  \\\n",
       "0        82.101505         13.439939  1.649447  6.832722  5.288146   \n",
       "1        81.778429         13.299214  1.699940  7.028450  5.395301   \n",
       "2        81.630571         12.960920  1.836486  7.571401  5.567269   \n",
       "3        83.327073         13.322951  1.938096  7.962732  5.479457   \n",
       "4        82.957054         13.263120  2.004092  8.310213  5.415416   \n",
       "\n",
       "   Utilidad/Ingresos  \n",
       "0           5.398005  \n",
       "1           5.543541  \n",
       "2           5.961291  \n",
       "3           6.244561  \n",
       "4           6.451046  "
      ]
     },
     "execution_count": 3,
     "metadata": {},
     "output_type": "execute_result"
    }
   ],
   "source": [
    "#datos = pd.read_excel(r'/home/ubuntu/prec/data/data.xlsx', sheet_name='Datos')\n",
    "datos = pd.read_excel(r'C:/Users/rlope/Downloads/data.xlsx', sheet_name='Datos')\n",
    "datos.head(5)"
   ]
  },
  {
   "cell_type": "markdown",
   "metadata": {
    "id": "ziRuTFO1omtd"
   },
   "source": [
    "# Descripción de los datos"
   ]
  },
  {
   "cell_type": "code",
   "execution_count": 4,
   "metadata": {
    "colab": {
     "base_uri": "https://localhost:8080/"
    },
    "id": "ovwtdJXnaeBh",
    "outputId": "f258f4f7-9d6c-4ca8-d04f-9fbe41cfe20c"
   },
   "outputs": [
    {
     "data": {
      "text/plain": [
       "(1637, 11)"
      ]
     },
     "execution_count": 4,
     "metadata": {},
     "output_type": "execute_result"
    }
   ],
   "source": [
    "datos.shape"
   ]
  },
  {
   "cell_type": "code",
   "execution_count": 5,
   "metadata": {
    "colab": {
     "base_uri": "https://localhost:8080/"
    },
    "id": "_Zxa-b1Bnzn_",
    "outputId": "48d95bbd-6cab-4138-c42a-05d6e9f89dd3"
   },
   "outputs": [
    {
     "name": "stdout",
     "output_type": "stream",
     "text": [
      "Index(['Fecha', 'Solvencia', 'IRL', 'Cartera/Depósitos', 'Cartera/Activos',\n",
      "       'Gast_ope/Activos', 'ROA', 'ROE', 'Calidad', 'Utilidad/Ingresos'],\n",
      "      dtype='object')\n"
     ]
    }
   ],
   "source": [
    "AtributosNumericos = datos.columns\n",
    "AtributosNumericos = AtributosNumericos[1:]\n",
    "print(AtributosNumericos)"
   ]
  },
  {
   "cell_type": "code",
   "execution_count": null,
   "metadata": {
    "colab": {
     "base_uri": "https://localhost:8080/"
    },
    "id": "jB9h-A4AXtfB",
    "outputId": "db3f26bc-a555-4915-a63f-321694db36d1"
   },
   "outputs": [],
   "source": [
    "Estadisticas = pd.DataFrame(datos)\n",
    "print(Estadisticas.describe())"
   ]
  },
  {
   "cell_type": "code",
   "execution_count": null,
   "metadata": {
    "colab": {
     "base_uri": "https://localhost:8080/",
     "height": 874
    },
    "id": "1oFiPbq6bOK0",
    "outputId": "6cf521ae-3966-4954-c6bc-defee68cc5e7"
   },
   "outputs": [],
   "source": [
    "sns.pairplot(datos, kind=\"scatter\")\n",
    "plt.show()"
   ]
  },
  {
   "cell_type": "code",
   "execution_count": null,
   "metadata": {
    "colab": {
     "base_uri": "https://localhost:8080/",
     "height": 1000
    },
    "id": "ou2aa6s9b0g1",
    "outputId": "f8a23146-5052-4b0d-8344-f2c0a6aa9aef"
   },
   "outputs": [],
   "source": [
    "correlation_matrix = datos.corr()\n",
    "dataplot = sns.heatmap(datos.corr(), cmap=\"YlGnBu\", annot=True)\n",
    "# displaying heatmap\n",
    "mp.show()\n",
    "print(correlation_matrix)"
   ]
  },
  {
   "cell_type": "code",
   "execution_count": null,
   "metadata": {
    "colab": {
     "base_uri": "https://localhost:8080/",
     "height": 1000
    },
    "id": "vTAI-_NbeUnN",
    "outputId": "5b9462b2-d98e-4ec1-c9e5-e149e0337463"
   },
   "outputs": [],
   "source": [
    "for i in AtributosNumericos:\n",
    "  sns.catplot(data=datos, y=i, kind=\"box\",margin_titles=True)\n",
    "  sns.displot(datos, x=i, kind=\"kde\",fill=True,common_norm=False)"
   ]
  },
  {
   "cell_type": "markdown",
   "metadata": {
    "id": "amRfI8p9nPKB"
   },
   "source": [
    "**A partir del cuadro podemos mencionar las siguientes conclusiones:**\n",
    "\n",
    "**Utilidad/ingresos vs. ROA y ROE:** Existe una correlación lineal positiva muy fuerte entre la utilidad como proporción de los ingresos y las medidas de rentabilidad ROA y ROE. Esto sucede pues a mayores utilidades es de esperarse que también se incrementen estas medidas pues también tienen de numerador a las utilidades.\n",
    "**Cartera/Depósitos vs. Gast_Op/Activos:** Existe una correlación lineal positiva (0.57) entre la relación Cartera/Depósitos y el gasto operativo como proporción de los activos. Esto sugiere que a medida que la proporción de cartera aumenta, el gasto operativo también aumenta.\n",
    "**Cartera/Activos vs. solvencia e IRL:** Si una entidad está muy expuesta a cartera su solvencia e IRL se ven reducidos.\n",
    "**Cartera/Activos, Cartera/Depósitos y calidad:**  entre más expuesta esté una entidad a cartera también está expuesta a que hayan más incumplimiento por deudores y por ende el indicador de calidad puede incrementar\n",
    "\n",
    "\n",
    "\n",
    "\n"
   ]
  },
  {
   "cell_type": "code",
   "execution_count": null,
   "metadata": {
    "id": "AE6HSVhuMfMA"
   },
   "outputs": [],
   "source": [
    "datos = datos.set_index('Fecha')"
   ]
  },
  {
   "cell_type": "code",
   "execution_count": null,
   "metadata": {},
   "outputs": [],
   "source": [
    "# Se defienen las x como la base sin las dos primeras columnas:\n",
    "\n",
    "x = datos.iloc[:, 2:]\n",
    "x"
   ]
  },
  {
   "cell_type": "code",
   "execution_count": null,
   "metadata": {},
   "outputs": [],
   "source": [
    "# Estandarizamos las variables para que no influyan las distintas medidas:\n",
    "\n",
    "scaler = StandardScaler()\n",
    "x_estandarizado = scaler.fit_transform(x)\n",
    "x_estandarizado"
   ]
  },
  {
   "cell_type": "code",
   "execution_count": null,
   "metadata": {},
   "outputs": [],
   "source": [
    "# Se tienen entonces 145 observaciones para 9 variables estandarizadas:\n",
    "\n",
    "print(len(x_estandarizado[0]))\n",
    "print(len(x_estandarizado))"
   ]
  },
  {
   "cell_type": "code",
   "execution_count": null,
   "metadata": {},
   "outputs": [],
   "source": [
    "methods = ['single', 'complete', 'average', 'centroid','ward']"
   ]
  },
  {
   "cell_type": "code",
   "execution_count": null,
   "metadata": {},
   "outputs": [],
   "source": [
    "# registre el experimento\n",
    "experiment = mlflow.set_experiment(\"Experimientos de Clusters indicadores de Riesgo\")"
   ]
  },
  {
   "cell_type": "code",
   "execution_count": null,
   "metadata": {},
   "outputs": [],
   "source": [
    "for method in methods:\n",
    "    \n",
    "    with mlflow.start_run(experiment_id=experiment.experiment_id):\n",
    "        # defina los parámetros del modelo\n",
    "        # Configurar y aplicar PCA:\n",
    "        n_components = 0.80  # Retener el 80% de la varianza.\n",
    "        pca = PCA(n_components=n_components, svd_solver='full', random_state=0)\n",
    "        pca.fit(x_estandarizado)\n",
    "\n",
    "        # Ajustar PCA a los datos originales y transformarlos\n",
    "        x_reduced = pca.fit_transform(x_estandarizado)\n",
    "\n",
    "        distances = linkage(x_reduced, method=method, metric=\"euclidean\")\n",
    "        clusters = fcluster(distances, 3, criterion=\"distance\")\n",
    "        plt.title('linkage: ' + method)\n",
    "        plt.scatter(x_reduced[:,0], x_reduced[:,1], c=clusters, cmap='tab20b')\n",
    "        plt.show()\n",
    "        score_7 = silhouette_score(x_reduced, clusters)\n",
    "        print(f\"Silhouette Score: {score_7}\")\n",
    "\n",
    "        # Registre los parámetros\n",
    "        mlflow.log_param(\"Metodo\", method)\n",
    "\n",
    "        # Cree y registre la métrica de interés\n",
    "        mlflow.log_metric(\"Silhouette core\", score_7)\n",
    "        print(score_7)\n",
    "\n",
    "        mlflow.log_param(\"Varianza explicada para PCA\", n_components)"
   ]
  }
 ],
 "metadata": {
  "colab": {
   "provenance": []
  },
  "kernelspec": {
   "display_name": "Python 3 (ipykernel)",
   "language": "python",
   "name": "python3"
  },
  "language_info": {
   "codemirror_mode": {
    "name": "ipython",
    "version": 3
   },
   "file_extension": ".py",
   "mimetype": "text/x-python",
   "name": "python",
   "nbconvert_exporter": "python",
   "pygments_lexer": "ipython3",
   "version": "3.11.5"
  }
 },
 "nbformat": 4,
 "nbformat_minor": 1
}
